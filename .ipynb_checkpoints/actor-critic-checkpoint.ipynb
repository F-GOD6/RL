{
 "cells": [
  {
   "cell_type": "code",
   "execution_count": 6,
   "id": "2cea9852",
   "metadata": {},
   "outputs": [],
   "source": [
    "import torch\n",
    "import gymnasium as gym\n",
    "import random"
   ]
  },
  {
   "cell_type": "code",
   "execution_count": 4,
   "id": "e8026157",
   "metadata": {},
   "outputs": [],
   "source": [
    "class PolicyNet(torch.nn.Module):\n",
    "    def __init__(self,state_dim,hidden_dim,action_dim):\n",
    "        super(PolicyNet,self).__init__()\n",
    "        self.fc1=torch.nn.Linear(state_dim,hidden_dim)\n",
    "        self.fc2=torch.nn.Linear(hidden_dim,action_dim)\n",
    "        self.softmax=torch.nn.Softmax(dim=1)\n",
    "    def forward(self,x):\n",
    "        x=self.softmax(torch.relu(self.fc2(torch.relu(self.fc1(x)))))\n",
    "        return x"
   ]
  },
  {
   "cell_type": "code",
   "execution_count": 5,
   "id": "a51a5643",
   "metadata": {},
   "outputs": [],
   "source": [
    "class ValueNet(torch.nn.Module):\n",
    "    def __init__(self,state_dim,hidden_dim):\n",
    "        super(ValueNet,self).__init__()\n",
    "        self.fc1=torch.nn.Linear(state_dim,hidden_dim)\n",
    "        self.fc2=torch.nn.Linear(hidden_dim,1)\n",
    "    def forward(self,x):\n",
    "        x=torch.relu(self.fc1(x))\n",
    "        x=self.fc2(x)\n",
    "        return x"
   ]
  },
  {
   "cell_type": "code",
   "execution_count": 27,
   "id": "20d92610",
   "metadata": {},
   "outputs": [],
   "source": [
    "class ActorCritic:\n",
    "    def __init__(self,state_dim,hidden_dim,action_dim,gamma,act_lr,cri_lr,device):\n",
    "        self.actor=PolicyNet(state_dim,hidden_dim,action_dim)\n",
    "        self.critic=ValueNet(state_dim,hidden_dim)\n",
    "        self.actor_optimizer=torch.optim.Adam(self.actor.parameters(),lr=act_lr)\n",
    "        self.critic_optimizer=torch.optim.Adam(self.critic.parameters(),lr=cri_lr)\n",
    "        self.device=device\n",
    "        self.gamma=gamma\n",
    "    def take_action(self,state):\n",
    "        state=torch.tensor(state,dtype=torch.float).to(self.device)\n",
    "        prob=self.actor(state)\n",
    "        action_dist=torch.distributions.Categorical(prob)\n",
    "        action=action_dist.sample()\n",
    "        return action\n",
    "    def update(self,transition_dist):\n",
    "        states=torch.tensor(transition_dist[\"states\"],dtype=torch.float).to(self.device)\n",
    "        rewards=torch.tensor(transition_dist[\"rewards\"],dtype=torch.float).view(-1,1).to(self.device)\n",
    "        dones=torch.tensor(transition_dist[\"dones\"],dtype=torch.float).view(-1,1).to(self.device)\n",
    "        actions=torch.tensor(transition_dist[\"actions\"],dtype=torch.float).view(-1,1).to(self.device)\n",
    "        next_states=torch.tensor(transition_dist[\"next_states\"],dtype=torch.float).to(self.device)\n",
    "        Td_target=rewards+self.critic(next_states)*self.gamma*(1-dones)\n",
    "        Td_error=self.critic(states)-Td_target\n",
    "        log_probs=torch.log(self.actor(statesa).gather(1,actions))\n",
    "        act_loss=torch.mean(-log_probs*Td_error.detach())\n",
    "        self.actor_optimizer.zero_grad()\n",
    "        act_loss.backward()\n",
    "        self.actoractor_optimizer.step()\n",
    "        critic_loss=torch.mean(torch.nn.functional.mse_loss(self.critic(states),Td_target))\n",
    "        self.critic_optimizer.zero_grad()\n",
    "        critic_loss.backward()\n",
    "        self.critic_optimizer.step()\n",
    "        "
   ]
  },
  {
   "cell_type": "code",
   "execution_count": 34,
   "id": "8fa15e85",
   "metadata": {},
   "outputs": [
    {
     "ename": "SyntaxError",
     "evalue": "invalid syntax (598902931.py, line 11)",
     "output_type": "error",
     "traceback": [
      "\u001b[0;36m  Cell \u001b[0;32mIn[34], line 11\u001b[0;36m\u001b[0m\n\u001b[0;31m    return_list = .train_on_policy_agent(env, agent, num_episodes)\u001b[0m\n\u001b[0m                  ^\u001b[0m\n\u001b[0;31mSyntaxError\u001b[0m\u001b[0;31m:\u001b[0m invalid syntax\n"
     ]
    }
   ],
   "source": [
    "env_name=\"CartPole-v1\"\n",
    "env=gym.make(env_name)\n",
    "state_dim=env.observation_space.shape[0]\n",
    "hidden_dim=256\n",
    "action_dim=env.action_space.n\n",
    "gamma=0.98\n",
    "act_lr=1e-5\n",
    "cri_lr=1e-5\n",
    "device=torch.device(\"cuda\") if torch.cuda.is_available() else torch.device(\"cpu\")\n",
    "agent=ActorCritic(state_dim,hidden_dim,action_dim,gamma,act_lr,cri_lr,device)\n",
    "return_list = .train_on_policy_agent(env, agent, num_episodes)"
   ]
  },
  {
   "cell_type": "code",
   "execution_count": 10,
   "id": "0d890f35",
   "metadata": {},
   "outputs": [
    {
     "ename": "TypeError",
     "evalue": "sample() missing 1 required positional argument: 'k'",
     "output_type": "error",
     "traceback": [
      "\u001b[0;31m---------------------------------------------------------------------------\u001b[0m",
      "\u001b[0;31mTypeError\u001b[0m                                 Traceback (most recent call last)",
      "Cell \u001b[0;32mIn[10], line 1\u001b[0m\n\u001b[0;32m----> 1\u001b[0m action\u001b[38;5;241m=\u001b[39m\u001b[43mrandom\u001b[49m\u001b[38;5;241;43m.\u001b[39;49m\u001b[43msample\u001b[49m\u001b[43m(\u001b[49m\u001b[43maction_dist\u001b[49m\u001b[43m)\u001b[49m\n",
      "\u001b[0;31mTypeError\u001b[0m: sample() missing 1 required positional argument: 'k'"
     ]
    }
   ],
   "source": []
  },
  {
   "cell_type": "code",
   "execution_count": null,
   "id": "5e160f9f",
   "metadata": {},
   "outputs": [],
   "source": []
  }
 ],
 "metadata": {
  "kernelspec": {
   "display_name": "Python 3 (ipykernel)",
   "language": "python",
   "name": "python3"
  },
  "language_info": {
   "codemirror_mode": {
    "name": "ipython",
    "version": 3
   },
   "file_extension": ".py",
   "mimetype": "text/x-python",
   "name": "python",
   "nbconvert_exporter": "python",
   "pygments_lexer": "ipython3",
   "version": "3.8.16"
  }
 },
 "nbformat": 4,
 "nbformat_minor": 5
}
