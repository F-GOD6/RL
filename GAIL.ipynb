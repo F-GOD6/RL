{
 "cells": [
  {
   "cell_type": "code",
   "execution_count": 1,
   "id": "b07df83f",
   "metadata": {},
   "outputs": [],
   "source": [
    "import gymnasium as gym\n",
    "import torch\n",
    "from tqdm import tqdm"
   ]
  },
  {
   "cell_type": "code",
   "execution_count": 2,
   "id": "4baa7ac5",
   "metadata": {},
   "outputs": [],
   "source": [
    "import numpy as np\n",
    "\n",
    "# 读取数据文件\n",
    "with open('expert_data.txt', 'r') as file:\n",
    "    header = file.readline()\n",
    "    data_lines = file.readlines()\n",
    "\n",
    "# 解析形状信息\n",
    "data_shape = tuple(map(int, header.strip().replace('(','').replace(')','').split(',')))\n",
    "data_shape[1]\n",
    "loaded_data = np.zeros(data_shape)\n",
    "for i, line in enumerate(data_lines):\n",
    "    loaded_data[i] = np.fromstring(line, sep=',')\n",
    "\n",
    "# 将加载的数据分隔为 expert_s 和 expert_a 数组\n",
    "expert_s = loaded_data[:, :-1]\n",
    "expert_a = loaded_data[:, -1:]"
   ]
  },
  {
   "cell_type": "code",
   "execution_count": 3,
   "id": "eec4fde2",
   "metadata": {},
   "outputs": [],
   "source": [
    "# class PolicyNet(torch.nn.Module):\n",
    "#     def __init__(self,state_dim,hidden_dim,action_dim):\n",
    "#         super(PolicyNet,self).__init__()\n",
    "#         self.fc1=torch.nn.Linear(state_dim,hidden_dim)\n",
    "#         self.relu=torch.nn.ReLU()\n",
    "#         self.fc2=torch.nn.Linear(hidden_dim,action_dim)\n",
    "#         self.softmax=torch.nn.Softmax(dim=1)\n",
    "#     def forward(self,x):\n",
    "#         x=self.fc1(x)\n",
    "#         x=self.relu(x)\n",
    "#         x=self.fc2(x)\n",
    "#         x=self.softmax(x)\n",
    "#         return x\n",
    "class Policy_net(torch.nn.Module):\n",
    "    def __init__(self,state_dim,hidden_dim,action_dim):\n",
    "        super(Policy_net,self).__init__()\n",
    "        self.fc1=torch.nn.Linear(state_dim,hidden_dim)\n",
    "        self.fc2=torch.nn.Linear(hidden_dim,action_dim)\n",
    "        self.softmax=torch.nn.Softmax(dim=1)\n",
    "    def forward(self,x):\n",
    "        return self.softmax(self.fc2(self.fc1(x)))"
   ]
  },
  {
   "cell_type": "code",
   "execution_count": 4,
   "id": "ad92b53b",
   "metadata": {},
   "outputs": [],
   "source": [
    "class REINFORCE:\n",
    "    def __init__(self,state_dim,hidden_dim,action_dim,gamma,lr,device):\n",
    "        self.policy_net=Policy_net(state_dim,hidden_dim,action_dim).to(device)\n",
    "        self.policy_optimizer=torch.optim.Adam(self.policy_net.parameters(),lr)\n",
    "        self.gamma=gamma\n",
    "        self.device=device\n",
    "    def take_action(self,state):\n",
    "        state=torch.tensor([state],dtype=torch.float).to(device)\n",
    "        probs=self.policy_net(state)\n",
    "        action_dist=torch.distributions.Categorical(probs)\n",
    "        action=action_dist.sample()\n",
    "        return action.item()\n",
    "    def update(self,transition_dict):\n",
    "        state_list=transition_dict[\"states\"]\n",
    "        reward_list=transition_dict[\"rewards\"]\n",
    "        action_list=transition_dict[\"actions\"]\n",
    "        G=0\n",
    "        self.policy_optimizer.zero_grad()\n",
    "        for i in reversed(range(len(state_list))):\n",
    "            reward=torch.tensor(reward_list[i]).view(-1,1).to(self.device)\n",
    "            action=torch.tensor([action_list[i]]).view(-1,1).to(self.device)\n",
    "            state=torch.tensor([state_list[i]],dtype=torch.float).to(self.device)\n",
    "            log_prob=torch.log(self.policy_net(state).gather(1,action))\n",
    "            G=self.gamma*G+reward\n",
    "            loss=-1*log_prob*G\n",
    "            loss.backward()\n",
    "        self.policy_optimizer.step()\n",
    "        "
   ]
  },
  {
   "cell_type": "code",
   "execution_count": 5,
   "id": "8fea3fc7",
   "metadata": {},
   "outputs": [],
   "source": [
    "class Discriminator(torch.nn.Module):\n",
    "    def __init__(self,state_dim,hidden_dim,action_dim):\n",
    "        super(Discriminator,self).__init__()\n",
    "        self.fc1=torch.nn.Linear(state_dim+action_dim,hidden_dim)\n",
    "        self.relu=torch.nn.ReLU()\n",
    "        self.fc2=torch.nn.Linear(hidden_dim,1)\n",
    "        self.sigmoid=torch.nn.Sigmoid()\n",
    "    def forward(self,state,action):\n",
    "        x=torch.cat([state,action],dim=1)\n",
    "        x=self.fc1(x)\n",
    "        x=self.relu(x)\n",
    "        x=self.fc2(x)\n",
    "        x=self.sigmoid(x)\n",
    "        return x"
   ]
  },
  {
   "cell_type": "code",
   "execution_count": 6,
   "id": "4921815f",
   "metadata": {},
   "outputs": [],
   "source": [
    "class GAIL:\n",
    "    def __init__(self,agent,state_dim,hidden_dim,action_dim,lr,device):\n",
    "        self.agent=agent\n",
    "        self.discriminator=Discriminator(state_dim,hidden_dim,action_dim).to(device)\n",
    "        self.discriminator_optimizer=torch.optim.Adam(self.discriminator.parameters(),lr)\n",
    "    def learn(self,expert_s, expert_a, agent_s, agent_a, next_s, dones):\n",
    "        expert_states = torch.tensor(expert_s, dtype=torch.float).to(device)\n",
    "        expert_actions = torch.tensor(expert_a,dtype=torch.int64).view(-1).to(device)\n",
    "        agent_states = torch.tensor(agent_s, dtype=torch.float).to(device)\n",
    "        agent_actions = torch.tensor(agent_a).to(device)\n",
    "        expert_actions=torch.nn.functional.one_hot(expert_actions,num_classes=2).float()\n",
    "        agent_actions=torch.nn.functional.one_hot(agent_actions,num_classes=2).float()\n",
    "        expert_prob = self.discriminator(expert_states, expert_actions)\n",
    "        agent_prob = self.discriminator(agent_states, agent_actions)\n",
    "        loss=torch.nn.BCELoss()\n",
    "        discriminator_loss=loss(expert_prob,torch.ones_like(expert_prob))+loss(agent_prob,torch.zeros_like(agent_prob))\n",
    "        self.discriminator_optimizer.zero_grad()\n",
    "        discriminator_loss.backward()\n",
    "        self.discriminator_optimizer.step()\n",
    "        rewards=agent_prob.detach().cpu().numpy()\n",
    "        transition_dict = {\n",
    "            'states': agent_s,\n",
    "            'actions': agent_a,\n",
    "            'rewards': rewards,\n",
    "            'next_states': next_s,\n",
    "            'dones': dones\n",
    "        }\n",
    "        self.agent.update(transition_dict)"
   ]
  },
  {
   "cell_type": "code",
   "execution_count": 9,
   "id": "c1b1b586",
   "metadata": {},
   "outputs": [],
   "source": [
    "env_name=\"CartPole-v1\"\n",
    "env=gym.make(env_name)\n",
    "torch.manual_seed(0)\n",
    "lr_d = 1e-3\n",
    "lr=1e-3\n",
    "state_dim=env.observation_space.shape[0]\n",
    "action_dim=env.action_space.n\n",
    "hidden_dim=128\n",
    "gamma=0.98\n",
    "device=torch.device(\"cuda\") if torch.cuda.is_available() else torch.device(\"cpu\")\n",
    "agent=REINFORCE(state_dim, hidden_dim, action_dim, gamma, lr,device=device)\n",
    "gail=GAIL(agent, state_dim, hidden_dim, action_dim, lr_d,device)\n",
    "n_episode = 2000\n",
    "return_list = []"
   ]
  },
  {
   "cell_type": "code",
   "execution_count": 10,
   "id": "0ba80e29",
   "metadata": {},
   "outputs": [
    {
     "name": "stderr",
     "output_type": "stream",
     "text": [
      "进度条: 100%|██████████████████████████████████████████| 2000/2000 [08:28<00:00,  3.93it/s, return=500.000]\n"
     ]
    }
   ],
   "source": [
    "with tqdm(total=n_episode, desc=\"进度条\") as pbar:\n",
    "    for i in range(n_episode):\n",
    "        episode_return = 0\n",
    "        state = env.reset()[0]\n",
    "        done = False\n",
    "        state_list = []\n",
    "        action_list = []\n",
    "        next_state_list = []\n",
    "        done_list = []\n",
    "        while not done:\n",
    "            action = agent.take_action(state)\n",
    "            next_state,reward,terminated,truncated,_=env.step(action)\n",
    "            done=terminated or truncated\n",
    "            state_list.append(state)\n",
    "            action_list.append(action)\n",
    "            next_state_list.append(next_state)\n",
    "            done_list.append(done)\n",
    "            state = next_state\n",
    "            episode_return += reward\n",
    "        return_list.append(episode_return)\n",
    "        gail.learn(expert_s, expert_a, state_list, action_list,\n",
    "                   next_state_list, done_list)\n",
    "        if (i + 1) % 10 == 0:\n",
    "            pbar.set_postfix({'return': '%.3f' % np.mean(return_list[-10:])})\n",
    "        pbar.update(1)"
   ]
  },
  {
   "cell_type": "code",
   "execution_count": null,
   "id": "ed21c221",
   "metadata": {},
   "outputs": [],
   "source": []
  }
 ],
 "metadata": {
  "kernelspec": {
   "display_name": "Python 3 (ipykernel)",
   "language": "python",
   "name": "python3"
  },
  "language_info": {
   "codemirror_mode": {
    "name": "ipython",
    "version": 3
   },
   "file_extension": ".py",
   "mimetype": "text/x-python",
   "name": "python",
   "nbconvert_exporter": "python",
   "pygments_lexer": "ipython3",
   "version": "3.8.16"
  }
 },
 "nbformat": 4,
 "nbformat_minor": 5
}
