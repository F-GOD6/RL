{
 "cells": [
  {
   "cell_type": "code",
   "execution_count": 1,
   "id": "5755eb09",
   "metadata": {},
   "outputs": [],
   "source": [
    "import gymnasium as gym\n",
    "import torch\n",
    "import torch.nn.functional as F\n",
    "import numpy as np\n",
    "import matplotlib.pyplot as plt\n",
    "from tqdm import tqdm\n",
    "import rl_utils\n",
    "import random"
   ]
  },
  {
   "cell_type": "code",
   "execution_count": 2,
   "id": "46e44533",
   "metadata": {},
   "outputs": [],
   "source": [
    "class Policy_net(torch.nn.Module):\n",
    "    def __init__(self,state_dim,hidden_dim,action_dim):\n",
    "        super(Policy_net,self).__init__()\n",
    "        self.fc1=torch.nn.Linear(state_dim,hidden_dim)\n",
    "        self.fc2=torch.nn.Linear(hidden_dim,action_dim)\n",
    "        self.softmax=torch.nn.Softmax(dim=1)\n",
    "    def forward(self,x):\n",
    "        return self.softmax(self.fc2(self.fc1(x)))"
   ]
  },
  {
   "cell_type": "code",
   "execution_count": 3,
   "id": "a6f9ad81",
   "metadata": {},
   "outputs": [],
   "source": [
    "class REINFORCE:\n",
    "    def __init__(self,state_dim,hidden_dim,action_dim,learning_rate,gamma,device):\n",
    "        self.state_dim=state_dim\n",
    "        self.hidden_dim=hidden_dim\n",
    "        self.action_dim=action_dim\n",
    "        self.learning_rate=learning_rate\n",
    "        self.gamma=gamma\n",
    "        self.device=device\n",
    "        self.policy_net=Policy_net(state_dim,hidden_dim,action_dim).to(self.device)\n",
    "        self.optimizer=torch.optim.Adam(self.policy_net.parameters(),lr=self.learning_rate)\n",
    "    def take_action(self,state):\n",
    "        state=torch.tensor([state],dtype=torch.float).to(self.device)\n",
    "        probs=self.policy_net(state)\n",
    "        action_dist=torch.distributions.Categorical(probs)\n",
    "        action=action_dist.sample()\n",
    "        return action.item()\n",
    "    def update(self,transition_dict):\n",
    "        state_list=transition_dict[\"states\"]\n",
    "        reward_list=transition_dict[\"rewards\"]\n",
    "        action_list=transition_dict[\"actions\"]\n",
    "        G=0\n",
    "        self.optimizer.zero_grad()\n",
    "        for i in reversed(range(len(state_list))):\n",
    "            reward=reward_list[i]\n",
    "            action=torch.tensor([action_list[i]]).view(-1,1).to(self.device)\n",
    "            state=torch.tensor([state_list[i]],dtype=torch.float).to(self.device)\n",
    "            log_prob=torch.log(self.policy_net(state).gather(1,action))\n",
    "            G=self.gamma*G+reward\n",
    "            loss=-1*log_prob*G\n",
    "            loss.backward()\n",
    "        self.optimizer.step()\n",
    "        "
   ]
  },
  {
   "cell_type": "code",
   "execution_count": 5,
   "id": "51042de5",
   "metadata": {},
   "outputs": [
    {
     "name": "stderr",
     "output_type": "stream",
     "text": [
      "第0轮: 100%|█████████████████████████████████| 200/200 [00:06<00:00, 30.83it/s, episode=200, return=77.300]\n",
      "第1轮: 100%|████████████████████████████████| 200/200 [00:42<00:00,  4.74it/s, episode=400, return=298.800]\n",
      "第2轮: 100%|████████████████████████████████| 200/200 [01:10<00:00,  2.86it/s, episode=600, return=340.100]\n",
      "第3轮: 100%|████████████████████████████████| 200/200 [00:37<00:00,  5.40it/s, episode=800, return=163.600]\n",
      "第4轮: 100%|███████████████████████████████| 200/200 [00:31<00:00,  6.31it/s, episode=1000, return=131.600]\n",
      "第5轮: 100%|███████████████████████████████| 200/200 [00:44<00:00,  4.47it/s, episode=1200, return=277.700]\n",
      "第6轮: 100%|███████████████████████████████| 200/200 [01:06<00:00,  2.99it/s, episode=1400, return=165.000]\n",
      "第7轮: 100%|███████████████████████████████| 200/200 [00:44<00:00,  4.53it/s, episode=1600, return=135.900]\n",
      "第8轮: 100%|███████████████████████████████| 200/200 [01:10<00:00,  2.83it/s, episode=1800, return=495.200]\n",
      "第9轮: 100%|███████████████████████████████| 200/200 [01:25<00:00,  2.34it/s, episode=2000, return=493.900]\n"
     ]
    }
   ],
   "source": [
    "learning_rate=1e-3\n",
    "num_episodes=2000\n",
    "hidden_dim=128\n",
    "gamma=0.98\n",
    "env_name=\"CartPole-v1\"\n",
    "device=torch.device(\"cuda\") if torch.cuda.is_available() else torch.device(\"cpu\")\n",
    "env=gym.make(env_name)\n",
    "state_dim=env.observation_space.shape[0]\n",
    "action_dim=env.action_space.n\n",
    "torch.manual_seed(0)\n",
    "agent=REINFORCE(state_dim, hidden_dim, action_dim, learning_rate, gamma, device)\n",
    "return_list=[]\n",
    "for i in range(10):\n",
    "    with tqdm(total=int(num_episodes/10),desc=\"第%d轮\"%i) as pbar:\n",
    "        for i_epoisode in range(int(num_episodes/10)):\n",
    "            state=env.reset()[0]\n",
    "            done=False\n",
    "            transition_dict={\n",
    "                \"states\":[],\n",
    "                \"rewards\":[],\n",
    "                \"actions\":[]\n",
    "            }\n",
    "            episode_return = 0\n",
    "            while not done:\n",
    "                action=agent.take_action(state)\n",
    "                next_state,reward,terminated,truncated,_=env.step(action)\n",
    "                \n",
    "                transition_dict[\"states\"].append(state)\n",
    "                transition_dict[\"rewards\"].append(reward)\n",
    "                transition_dict[\"actions\"].append(action)\n",
    "                state=next_state\n",
    "                episode_return+=reward\n",
    "                \n",
    "                done=terminated or truncated\n",
    "            return_list.append(episode_return)\n",
    "            agent.update(transition_dict)\n",
    "            if((i_epoisode+1)%10==0):\n",
    "                pbar.set_postfix({\n",
    "                    'episode':'%d'%(num_episodes/10*i+i_epoisode+1),\n",
    "                    'return':'%.3f'%np.mean(return_list[-10:])\n",
    "                })\n",
    "            pbar.update(1)\n",
    "            \n",
    "                                "
   ]
  },
  {
   "cell_type": "code",
   "execution_count": 8,
   "id": "fce8111c",
   "metadata": {},
   "outputs": [],
   "source": [
    "def sample_expert_data(n_episode):\n",
    "    states = []\n",
    "    actions = []\n",
    "    for episode in range(n_episode):\n",
    "        state = env.reset()[0]\n",
    "        done = False\n",
    "        while not done:\n",
    "            action = agent.take_action(state)\n",
    "            states.append(state)\n",
    "            actions.append(action)\n",
    "            next_state, reward, done, _,_ = env.step(action)\n",
    "            state = next_state\n",
    "    return np.array(states), np.array(actions)\n",
    "\n",
    "\n",
    "\n",
    "torch.manual_seed(0)\n",
    "random.seed(0)\n",
    "n_episode = 1\n",
    "expert_s, expert_a = sample_expert_data(n_episode)\n",
    "data = np.column_stack((expert_s, expert_a))\n",
    "# 获取合并后的数据的形状\n",
    "data_shape = data.shape\n",
    "\n",
    "# 保存合并后的数据及其形状为文本文件\n",
    "np.savetxt('expert_data.txt', data, delimiter=',', header=str(data_shape), comments='')"
   ]
  },
  {
   "cell_type": "code",
   "execution_count": 14,
   "id": "aff4fe68",
   "metadata": {},
   "outputs": [
    {
     "name": "stderr",
     "output_type": "stream",
     "text": [
      "进度条: 1000it [36:18,  2.18s/it, return=484.000]                                                          \n"
     ]
    }
   ],
   "source": [
    "def test_agent(agent,state,n_episodes):\n",
    "    return_list=[]\n",
    "    for episode in range(n_episodes):\n",
    "        state=env.reset(seed=0)[0]\n",
    "        done=False\n",
    "        episode_return=0\n",
    "        while not done:\n",
    "            action=agent.take_action(state)\n",
    "            next_state,reward,terminated,truncated,_=env.step(action)\n",
    "            done=terminated or truncated\n",
    "            state=next_state\n",
    "            episode_return+=reward\n",
    "        return_list.append(episode_return)\n",
    "    return return_list\n",
    "test_returns=[]\n",
    "with tqdm(total=100,desc=\"进度条\") as pbar:\n",
    "    for i in range(1000):\n",
    "        current_return = test_agent(agent, env, 10)\n",
    "        test_returns.append(current_return)\n",
    "        if (i + 1) % 10 == 0:\n",
    "            pbar.set_postfix({'return': '%.3f' % np.mean(test_returns[-10:])})\n",
    "        pbar.update(1)"
   ]
  },
  {
   "cell_type": "code",
   "execution_count": null,
   "id": "cb156435",
   "metadata": {},
   "outputs": [],
   "source": []
  }
 ],
 "metadata": {
  "kernelspec": {
   "display_name": "Python 3 (ipykernel)",
   "language": "python",
   "name": "python3"
  },
  "language_info": {
   "codemirror_mode": {
    "name": "ipython",
    "version": 3
   },
   "file_extension": ".py",
   "mimetype": "text/x-python",
   "name": "python",
   "nbconvert_exporter": "python",
   "pygments_lexer": "ipython3",
   "version": "3.8.16"
  }
 },
 "nbformat": 4,
 "nbformat_minor": 5
}
